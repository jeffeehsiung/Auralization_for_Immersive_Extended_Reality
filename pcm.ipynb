{
 "cells": [
  {
   "cell_type": "code",
   "execution_count": null,
   "metadata": {},
   "outputs": [],
   "source": [
    "import numpy as np\n",
    "import matplotlib.pyplot as plt\n",
    "from scipy import signal\n",
    "# import fft library from scipy\n",
    "from scipy.fftpack import fft, ifft\n",
    "import math\n",
    "import os\n"
   ]
  },
  {
   "cell_type": "code",
   "execution_count": null,
   "metadata": {},
   "outputs": [],
   "source": [
    "# Write data to file\n",
    "def writes(data, datapath):\n",
    "    # check that data only contains integers\n",
    "    if not np.issubdtype(data.dtype, np.integer):\n",
    "        raise ValueError('data must be integer type')\n",
    "\n",
    "    if not np.issubdtype(data.dtype, np.int16):\n",
    "        data = data.astype(np.int16)\n",
    "\n",
    "    # check that data is 1D\n",
    "    if data.ndim != 1:\n",
    "        raise ValueError('data must be 1D')\n",
    "\n",
    "    # write data to file in Little-endian ordering\n",
    "    with open(datapath, 'wb') as f:\n",
    "        data.tofile(f)\n",
    "\n",
    "\n",
    "# Read data from file\n",
    "def reads(datapath):\n",
    "    # check that file exists\n",
    "    if not os.path.isfile(datapath):\n",
    "        raise ValueError('file does not exist')\n",
    "\n",
    "    # read data from file in Little-endian ordering\n",
    "    with open(datapath, 'rb') as f:\n",
    "        data = np.fromfile(f, dtype=np.int16)\n",
    "    return data"
   ]
  },
  {
   "cell_type": "code",
   "execution_count": null,
   "metadata": {},
   "outputs": [],
   "source": [
    "# Read the input.pcm and output.pcm, what type of filter it is?\n",
    "input_data = reads('circ_fir/data/input.pcm')\n",
    "output_data = reads('circ_fir/data/output.pcm')"
   ]
  },
  {
   "cell_type": "code",
   "execution_count": null,
   "metadata": {},
   "outputs": [],
   "source": [
    "# plot the frequency response of the filter by looking at input and output data read from .pcm\n",
    "# input and output data are in time domain\n",
    "# use fft to convert them into frequency domain using scipy and visualize the frequency response\n",
    "input_data_fft = fft(input_data)\n",
    "output_data_fft = fft(output_data)\n",
    "# calculate the magnitude in dB\n",
    "input_data_fft_mag = 20*np.log10(np.abs(input_data_fft))\n",
    "output_data_fft_mag = 20*np.log10(np.abs(output_data_fft))\n",
    "# plot the frequency response\n",
    "plt.figure(figsize=(10, 5))\n",
    "plt.plot(input_data_fft_mag, label='input')\n",
    "plt.plot(output_data_fft_mag, label='output')\n",
    "plt.legend()\n",
    "plt.title('Frequency Response')\n",
    "plt.xlabel('Frequency')\n",
    "plt.ylabel('Magnitude (dB)')\n",
    "plt.show()\n"
   ]
  },
  {
   "cell_type": "code",
   "execution_count": null,
   "metadata": {},
   "outputs": [],
   "source": []
  }
 ],
 "metadata": {
  "kernelspec": {
   "display_name": "Python 3",
   "language": "python",
   "name": "python3"
  },
  "language_info": {
   "codemirror_mode": {
    "name": "ipython",
    "version": 3
   },
   "file_extension": ".py",
   "mimetype": "text/x-python",
   "name": "python",
   "nbconvert_exporter": "python",
   "pygments_lexer": "ipython3",
   "version": "3.11.6"
  }
 },
 "nbformat": 4,
 "nbformat_minor": 2
}
